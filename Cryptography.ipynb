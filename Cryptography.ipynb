{
  "nbformat": 4,
  "nbformat_minor": 0,
  "metadata": {
    "colab": {
      "provenance": []
    },
    "kernelspec": {
      "name": "python3",
      "display_name": "Python 3"
    },
    "language_info": {
      "name": "python"
    }
  },
  "cells": [
    {
      "cell_type": "markdown",
      "metadata": {
        "id": "LoclQS-b0d2-"
      },
      "source": [
        "The file demonstrates how cryptography plays an important role in the\n",
        "present digital world by knowing encryption and decryption techniques and secure data in\n",
        "transit across data networks.\n"
      ]
    },
    {
      "cell_type": "markdown",
      "metadata": {
        "id": "--l_7lmw1S_V"
      },
      "source": [
        "Objectives:\n",
        "i) Understand the fundamentals of Cryptography and Network Security, including data\n",
        "and advanced encryption standard (DES & AES), RSA and elliptic curve cryptography.\n",
        "ii) Encrypt and decrypt messages using block ciphers, sign and verify messages using well\n",
        "known signature generation and verification algorithms.\n",
        "iii) Acquire knowledge of standard algorithms that can be used to provide confidentiality,\n",
        "integrity and authentication of data.\n"
      ]
    },
    {
      "cell_type": "markdown",
      "metadata": {
        "id": "WcC9hEIg83iy"
      },
      "source": [
        "information security : 1) computer security 2) network/internet security"
      ]
    },
    {
      "cell_type": "markdown",
      "metadata": {
        "id": "t6OGHR1BnoSK"
      },
      "source": [
        "Passing attack: - only learns or makes use of the information, e.g. eavesdroping, monitoring doesnot affect the actual operation; GOAL - traffic analysis, selling you personalised product or marketing \\\\\n",
        "---> prevention rather than detection because they are hard to detect \\\\\n",
        "vs \\\\\n",
        "Active Attack : - involves some modification of data or interface , replay, denial or not working interface, wide variety; GOAL - recovering from the delay and disruptions caused by it"
      ]
    },
    {
      "cell_type": "markdown",
      "metadata": {
        "id": "z1MRQrO7mXPc"
      },
      "source": [
        "SECUTRITY SERVICES : 1) authentication, non repiudiation, data integrity and confidentiality, access control"
      ]
    },
    {
      "cell_type": "markdown",
      "metadata": {
        "id": "9IAjCtl0pXnQ"
      },
      "source": [
        "SECURITY MECHANISMS : - 1) notarization - use of a trusted third party to assure certain properties of a data exchange. \\\\\n",
        "2) routing control \\\\\n",
        "3) traffic padding \\\\\n",
        "4) access control \\\\\n",
        "5) digital signature \\\\\n",
        "6) encipherment\n"
      ]
    },
    {
      "cell_type": "markdown",
      "metadata": {
        "id": "Wkkg0KyQrPQe"
      },
      "source": [
        "**Symmetric encryption **- uses only same key for encryption and decryption (conventional). \\\\\n",
        "Cryptanalysis = bases on the encryption algorithm - Techniques used for\n",
        "deciphering a message without any knowledge of the enciphering details, \\\\ brute force = trying out all possible keys \\\\\n",
        "---> techniques - subsitution and transposition \\\\\n",
        "Steganography - technique for hiding a secret message within a larger one in\n",
        "such a way that others cannot discern the presence or contents of the hidden\n",
        "message. \\\\\n",
        "Cryptology = cryptanalysis + cryptology (study of ciphers)\n"
      ]
    },
    {
      "cell_type": "markdown",
      "metadata": {
        "id": "2Kk1ClP4uYCw"
      },
      "source": [
        "Cryptographic systems - three independent dimensions- \\\\\n",
        "a) The type of operations used for transforming plaintext to ciphertext \\\\\n",
        "b) The number of keys used \\\\\n",
        "c) block cipher or stream cipher"
      ]
    },
    {
      "cell_type": "markdown",
      "metadata": {
        "id": "xR6LvSY0ywTs"
      },
      "source": [
        "Exception as one time pad , no other system is unconditionaly secure \\\\\n",
        "usually we aim for 1) cost of breaking > value of the encryption \\\\\n",
        "2) time required to break > lifetime of the information \\\\\n",
        "the above two are called computationally secure"
      ]
    },
    {
      "cell_type": "code",
      "metadata": {
        "colab": {
          "base_uri": "https://localhost:8080/"
        },
        "id": "xCCPopDVSsBY",
        "outputId": "454d091e-3881-44bf-cebd-341d1241db0f"
      },
      "source": [
        "# ceaser cipher is when shift = 3\n",
        "encrypted = str(input())\n",
        "char = \"\"\n",
        "trying = str(input())\n",
        "try1 = abs(ord(encrypted.lower()[0]) - ord(trying))\n",
        "for i in encrypted.lower():\n",
        "  if i is \" \":\n",
        "    char += \" \"\n",
        "  else:\n",
        "    num = (ord(i)-96 - try1)%26\n",
        "    if num == 0:\n",
        "      num = 26\n",
        "    char += chr(num+96)\n",
        "print(char)\n",
        "#frequency analysis - pg 40 wiliam stalling book"
      ],
      "execution_count": null,
      "outputs": [
        {
          "output_type": "stream",
          "text": [
            "PHHW PH DIWHU WKH WRJD SDUWB\n",
            "m\n",
            "meet me after the toga party\n"
          ],
          "name": "stdout"
        }
      ]
    },
    {
      "cell_type": "code",
      "metadata": {
        "id": "hI1Z3ChP2h-J"
      },
      "source": [
        "# monoalphabetic cipher : any letter can be any alphabet by the means of subsitution\n",
        "# ---> that means 26! keys but a possible approach is frequency analysis\n",
        "# polyaphabetic cipher : e.g. vigenere cipher - key(word repeated many times) + plaintext = ciphertext"
      ],
      "execution_count": null,
      "outputs": []
    },
    {
      "cell_type": "markdown",
      "metadata": {
        "id": "JWdf0XTB5FBb"
      },
      "source": [
        "Playfair Cipher - matrix ; i/j same box, key at starting"
      ]
    },
    {
      "cell_type": "markdown",
      "metadata": {
        "id": "OnNGRTCi6CBj"
      },
      "source": [
        "Hill cipher : - matrix usage, inverse of a matrix for decryption key is in matrix form of 2 2 pairs or 3 3 according to the matrix \\\\\n",
        "key = 3 by 3 matrix or 2 by 2 matrix \\\\\n",
        "cipher text only attacks are impossible but plain and cipher text if given to the hacker then he can easily get the key\n"
      ]
    },
    {
      "cell_type": "markdown",
      "metadata": {
        "id": "koEcr6zgN0lu"
      },
      "source": [
        "one-time pad, is unbreakable. It produces\n",
        "random output that bears no statistical relationship to the plaintext. Because the ciphertext contains no\n",
        "information whatsoever about the plaintext, there is simply no way to break the code ;useful primarily for lowbandwidth channels requiring very high security \\\\\n",
        "---> difficulties : - truly random\n",
        "characters in this volume is a significant task;\n",
        "problem of key distribution and protection"
      ]
    },
    {
      "cell_type": "code",
      "metadata": {
        "id": "7nBdL0Rq6BWg"
      },
      "source": [
        "# block cipher :  a block of plaintext is treated as a whole and used to produce a ciphertext block of equal length\n",
        "# a block = usually 64-128 bits\n",
        "# ---->A stream cipher is one that encrypts a digital data stream one bit or one byte at a time. Examples of\n",
        "# classical stream ciphers are the autokeyed Vigenère cipher and the Vernam cipher"
      ],
      "execution_count": null,
      "outputs": []
    },
    {
      "cell_type": "markdown",
      "metadata": {
        "id": "7YIqrjniCjiP"
      },
      "source": [
        "if block size n is sufficiently large and an arbitrary reversible substitution between plaintext and ciphertext is allowed, then the statistical characteristics of the source plaintext are masked to such an extent that this type of cryptanalysis is infeasible"
      ]
    },
    {
      "cell_type": "markdown",
      "metadata": {
        "id": "IUKqjMCygjzT"
      },
      "source": [
        "DES - Data Encryption Standard (DES) has been the most widely used encryption\n",
        "algorithm until recently. It exhibits the classic Feistel structure. DES uses a 64-bit\n",
        "block and a 56-bit key \\\\\n",
        "Fiestel structure : - Such a structure consists of a number\n",
        "of identical rounds of processing. In each round, a substitution is performed on one half of the data being processed, followed by a permutation that interchanges the two halves. The original key is expanded so that a different key is used for each round"
      ]
    },
    {
      "cell_type": "code",
      "metadata": {
        "id": "P14i4q1vgyyH"
      },
      "source": [
        "# DES is found to be highly resistant to linear cryptanalysis and differential cryptanalysis"
      ],
      "execution_count": null,
      "outputs": []
    },
    {
      "cell_type": "code",
      "metadata": {
        "id": "fu_fNc27EH3o",
        "colab": {
          "base_uri": "https://localhost:8080/"
        },
        "outputId": "9aaad626-2710-4219-fad7-341aaf87792c"
      },
      "source": [
        "#hill cipher\n",
        "m = input()\n",
        "n = int(input())\n",
        "c = \"\"\n",
        "a = int(input())\n",
        "b= int(input())\n",
        "for i in m.lower():\n",
        "  c_num = (a*(ord(i)-97) + b)%n\n",
        "  c = c + chr(c_num+97)\n",
        "print(c)\n"
      ],
      "execution_count": null,
      "outputs": [
        {
          "output_type": "stream",
          "text": [
            "help me\n",
            "27\n",
            "13\n",
            "7\n",
            "rfpn{bf\n"
          ],
          "name": "stdout"
        }
      ]
    },
    {
      "cell_type": "code",
      "metadata": {
        "colab": {
          "base_uri": "https://localhost:8080/",
          "height": 352
        },
        "id": "9tvFBYSynYrC",
        "outputId": "2e6795ac-bcbf-481d-c06c-7a5d2493a32e"
      },
      "source": [
        "#vigenere cipher\n",
        "import matplotlib.pyplot as plt\n",
        "n = str(input()).lower()\n",
        "k = int(input())\n",
        "trying = str(input())\n",
        "m = []\n",
        "ci = \"\"\n",
        "c= \"\"\n",
        "for i in range(0, len(n), k):\n",
        "  m.append(n[i:i+k])\n",
        "for j in m:\n",
        "  for l in range(len(j)):\n",
        "    c = c + chr((ord(j[l]) - ord(trying[l]) - 97 + 97)%26 + 97) # - + difference in encryption and decryption\n",
        "  ci = ci + c\n",
        "  c = \"\"\n",
        "print(ci)\n",
        "# graph of frequency in cipher and plain text\n",
        "plt.bar(list(set(n)), [n.count(o) for o in list(set(n))])"
      ],
      "execution_count": null,
      "outputs": [
        {
          "output_type": "stream",
          "text": [
            "EPSDFQQXMZCJYNCKUCACDWJRCBVRWINLOWU\n",
            "4\n",
            "lion\n",
            "thequickbrownfoxjumpsoverthelazydog\n"
          ],
          "name": "stdout"
        },
        {
          "output_type": "execute_result",
          "data": {
            "text/plain": [
              "<BarContainer object of 23 artists>"
            ]
          },
          "metadata": {
            "tags": []
          },
          "execution_count": 15
        },
        {
          "output_type": "display_data",
          "data": {
            "image/png": "[encoded data removed]",
            "text/plain": [
              "<Figure size 432x288 with 1 Axes>"
            ]
          },
          "metadata": {
            "tags": [],
            "needs_background": "light"
          }
        }
      ]
    },
    {
      "cell_type": "code",
      "metadata": {
        "id": "1-MS71YFqEzV",
        "colab": {
          "base_uri": "https://localhost:8080/",
          "height": 283
        },
        "outputId": "1c1c30c6-b485-4d65-f217-698b41d48e34"
      },
      "source": [
        "plt.bar(list(set(ci)), [ci.count(p) for p in list(set(ci))])"
      ],
      "execution_count": null,
      "outputs": [
        {
          "output_type": "execute_result",
          "data": {
            "text/plain": [
              "<BarContainer object of 26 artists>"
            ]
          },
          "metadata": {
            "tags": []
          },
          "execution_count": 16
        },
        {
          "output_type": "display_data",
          "data": {
            "image/png": "[encoded data removed]",
            "text/plain": [
              "<Figure size 432x288 with 1 Axes>"
            ]
          },
          "metadata": {
            "tags": [],
            "needs_background": "light"
          }
        }
      ]
    },
    {
      "cell_type": "code",
      "metadata": {
        "colab": {
          "base_uri": "https://localhost:8080/"
        },
        "id": "TPeTJgPsDb1H",
        "outputId": "67c73f51-bd72-4717-a721-66c3d727d1b2"
      },
      "source": [
        "def gcd(a, b): # gcd calculator\n",
        "  a1 = set()\n",
        "  b1 = set()\n",
        "  for i in range(1, a+1):\n",
        "    if a%i == 0:\n",
        "      a1.add(i)\n",
        "  for j in range(1, b+1):\n",
        "    if b%j == 0:\n",
        "      b1.add(j)\n",
        "  c1 = a1.intersection(b1)\n",
        "  return max(list(c1))\n",
        "\n",
        "gcd(218, 1)"
      ],
      "execution_count": null,
      "outputs": [
        {
          "output_type": "execute_result",
          "data": {
            "text/plain": [
              "1"
            ]
          },
          "metadata": {
            "tags": []
          },
          "execution_count": 2
        }
      ]
    },
    {
      "cell_type": "code",
      "metadata": {
        "colab": {
          "base_uri": "https://localhost:8080/"
        },
        "id": "e6cn-9xwX8bE",
        "outputId": "654e5af7-5d68-4da9-eb06-0cc4d5d7b934"
      },
      "source": [
        "def phi(d): # euler totient function\n",
        "  a = []\n",
        "  for i in range(1, d):\n",
        "    if gcd(d, i) == 1:\n",
        "      a.append(i)\n",
        "  return a\n",
        "phi(10)"
      ],
      "execution_count": null,
      "outputs": [
        {
          "output_type": "execute_result",
          "data": {
            "text/plain": [
              "[1, 3, 7, 9]"
            ]
          },
          "metadata": {
            "tags": []
          },
          "execution_count": 22
        }
      ]
    },
    {
      "cell_type": "code",
      "metadata": {
        "colab": {
          "base_uri": "https://localhost:8080/"
        },
        "id": "Uck4L-1xxewd",
        "outputId": "eeebb3ec-f5d3-4dff-8adf-b3d093e9ac72"
      },
      "source": [
        "def inv(a, b):\n",
        "  c = 0\n",
        "  if gcd(a, b) == 1:\n",
        "    for i in range(1,b):\n",
        "      if (i*a)%b == 1:\n",
        "        c = i\n",
        "  return c\n",
        "\n",
        "inv(3, 25)"
      ],
      "execution_count": null,
      "outputs": [
        {
          "output_type": "execute_result",
          "data": {
            "text/plain": [
              "17"
            ]
          },
          "metadata": {
            "tags": []
          },
          "execution_count": 3
        }
      ]
    },
    {
      "cell_type": "code",
      "metadata": {
        "colab": {
          "base_uri": "https://localhost:8080/"
        },
        "id": "0rmNI2Wd8SAO",
        "outputId": "3beab9f3-850c-4220-ce27-a8e6596c9aba"
      },
      "source": [
        "#Silver Pohlig - Hellman Exponentiation Cipher\n",
        "p = int(input())\n",
        "e = int(input()) # such that gcd(e, p-1) = 1\n",
        "cipher = \"\"\n",
        "plain = str(input()).lower()\n",
        "for i in plain:\n",
        "  c = ((ord(i)-97)**e)%p + 97\n",
        "  cipher += chr(c)\n",
        "print(cipher)\n",
        "# decryption\n",
        "plain_after = \"\"\n",
        "d = inv(e, p-1)\n",
        "for j in cipher:\n",
        "  p1 = ((ord(j)-97)**d)%p + 97\n",
        "  plain_after += chr(p1)\n",
        "print(plain_after)"
      ],
      "execution_count": null,
      "outputs": [
        {
          "output_type": "stream",
          "text": [
            "29\n",
            "3\n",
            "h\n",
            "y\n",
            "h\n"
          ],
          "name": "stdout"
        }
      ]
    },
    {
      "cell_type": "code",
      "metadata": {
        "colab": {
          "base_uri": "https://localhost:8080/"
        },
        "id": "DAQ_IpJsWYP9",
        "outputId": "67120244-bb27-4315-a526-fd71388ca6fb"
      },
      "source": [
        "# chinese remainder theorem:\n",
        "from numpy import prod as mp\n",
        "n = int(input())\n",
        "s = []\n",
        "for i in range(n):\n",
        "  n1 = str(input()).split()\n",
        "  n1 = [int(n11) for n11 in n1]\n",
        "  s.append(n1)\n",
        "m = 1\n",
        "for k in range(n):\n",
        "  m = m * s[k][1]\n",
        "\n",
        "for l in range(n):\n",
        "  s[l].append(m//s[l][1])\n",
        "  s[l][1] = inv(s[l][2], s[l][1])\n",
        "\n",
        "s1 = []\n",
        "for o in range(n):\n",
        "  s1.append(mp(s[o]))\n",
        "print(sum(s1)%m)\n"
      ],
      "execution_count": null,
      "outputs": [
        {
          "output_type": "stream",
          "text": [
            "3\n",
            "3 5\n",
            "1 7\n",
            "6 8\n",
            "78\n"
          ],
          "name": "stdout"
        }
      ]
    },
    {
      "cell_type": "code",
      "metadata": {
        "id": "Zy2U8G5JCXPQ"
      },
      "source": [
        "a_dict = {\"a\": 0, \"b\": 1, \"c\":2, \"d\":3, \"e\":4, \"f\":5, \"g\":6, \"h\":7, \"i\":8, \"j\":9, \"k\":10, \"l\":11, \"m\":12, \"n\":13, \"o\":14, \"p\":15, \"q\":16,\n",
        "            \"r\":17, \"s\":18, \"t\":19, \"u\":20, \"v\":21, \"w\":22, \"x\":23, \"y\":24, \"z\":25, \"_\":26, \"?\": 27, \":\":28, \"@\": 29, \"!\": 30, \"%\": 31,\n",
        "            \"\\\"\": 32}"
      ],
      "execution_count": null,
      "outputs": []
    },
    {
      "cell_type": "code",
      "metadata": {
        "colab": {
          "base_uri": "https://localhost:8080/"
        },
        "id": "sE-z0F2yG74j",
        "outputId": "177b715b-792a-42f7-ade8-b24a14dd424c"
      },
      "source": [
        "#RSA CRYPTOsystem\n",
        "\n",
        "n = int(input()) # n = p*q\n",
        "e = int(input()) # such that gcd(e, (p-1)(q-1)) = 1\n",
        "cipher = \"\"\n",
        "plain = str(input()).lower()\n",
        "for i in plain:\n",
        "  c = ((a_dict[i])**e)%n\n",
        "  cipher += list(a_dict.keys())[list(a_dict.values()).index(c)]\n",
        "print(cipher)\n",
        "plain_after = \"\"\n",
        "d = inv(e, phi(n))\n",
        "for j in cipher:\n",
        "  p1 = ((a_dict[j])**d)%n\n",
        "  plain_after += list(a_dict.keys())[list(a_dict.values()).index(p1)]\n",
        "print(plain_after)"
      ],
      "execution_count": null,
      "outputs": [
        {
          "output_type": "stream",
          "text": [
            "33\n",
            "3\n",
            "cryptography\n",
            "i@!j:fs@ajn!\n",
            "cryptography\n"
          ],
          "name": "stdout"
        }
      ]
    },
    {
      "cell_type": "code",
      "metadata": {
        "id": "abIybQsVSrtB",
        "colab": {
          "base_uri": "https://localhost:8080/"
        },
        "outputId": "b1d24353-1a4d-42e4-97cf-6880d34c3785"
      },
      "source": [
        "#Quadratic cipher\n",
        "n = int(input())\n",
        "enc = str(input()) # rabin cipher is when n = p*q and 4k+3 form\n",
        "cipher = \"\"\n",
        "for i in enc:\n",
        "  c = (a_dict[i]**2)%n\n",
        "  cipher += list(a_dict.keys())[list(a_dict.values()).index(c)]\n",
        "print(cipher)\n",
        "b_dict = dict()\n",
        "for j, k in a_dict.items():\n",
        "  b_dict[j] = (k**2)%n\n",
        "print(b_dict)"
      ],
      "execution_count": null,
      "outputs": [
        {
          "output_type": "stream",
          "text": [
            "33\n",
            "hello\n",
            "qqww%\n",
            "{'a': 0, 'b': 1, 'c': 4, 'd': 9, 'e': 16, 'f': 25, 'g': 3, 'h': 16, 'i': 31, 'j': 15, 'k': 1, 'l': 22, 'm': 12, 'n': 4, 'o': 31, 'p': 27, 'q': 25, 'r': 25, 's': 27, 't': 31, 'u': 4, 'v': 12, 'w': 22, 'x': 1, 'y': 15, 'z': 31, '_': 16, '?': 3, ':': 25, '@': 16, '!': 9, '%': 4, '\"': 1}\n"
          ],
          "name": "stdout"
        }
      ]
    },
    {
      "cell_type": "code",
      "metadata": {
        "colab": {
          "base_uri": "https://localhost:8080/"
        },
        "id": "s7fVL3tsyZeB",
        "outputId": "30686eb7-908b-49b4-fb8f-f3710dffde51"
      },
      "source": [
        "#Quadratic residue ------ eulers criteria --> only existence\n",
        "a = int(input())\n",
        "p = int(input()) # gcd(a, n)= 1 _____ p = odd prime\n",
        "if a**((p-1)//2)%p == 1:\n",
        "  print(\"yes\")\n",
        "else:\n",
        "  print(\"no\")"
      ],
      "execution_count": null,
      "outputs": [
        {
          "output_type": "stream",
          "text": [
            "4\n",
            "29\n",
            "yes\n"
          ],
          "name": "stdout"
        }
      ]
    },
    {
      "cell_type": "code",
      "metadata": {
        "colab": {
          "base_uri": "https://localhost:8080/"
        },
        "id": "kCCTkEPI5SEE",
        "outputId": "692b0a8c-00e8-43ad-8f27-ef4272410c47"
      },
      "source": [
        "# if p is in the form 4k+3\n",
        "p = int(input())\n",
        "a = int(input())\n",
        "if (p-3)%4 == 0:\n",
        "  print(a**((p+1)/4)%p, -a**((p+1)/4)%p)"
      ],
      "execution_count": null,
      "outputs": [
        {
          "output_type": "stream",
          "text": [
            "19\n",
            "4\n",
            "17.0 2.0\n"
          ],
          "name": "stdout"
        }
      ]
    },
    {
      "cell_type": "code",
      "metadata": {
        "colab": {
          "base_uri": "https://localhost:8080/"
        },
        "id": "rX8lgQX25_OA",
        "outputId": "10812340-9e43-4bda-a90e-1c50d6d77731"
      },
      "source": [
        "#legendre symbol\n",
        "a = int(input())\n",
        "p = int(input())\n",
        "if a%p == 0:\n",
        "  print(0)\n",
        "elif a**((p-1)//2)%p == 1:\n",
        "  print(1)\n",
        "else:\n",
        "  print(-1)"
      ],
      "execution_count": null,
      "outputs": [
        {
          "output_type": "stream",
          "text": [
            "2\n",
            "3\n",
            "-1\n"
          ],
          "name": "stdout"
        }
      ]
    },
    {
      "cell_type": "markdown",
      "metadata": {
        "id": "5yX6SKGUEO4B"
      },
      "source": [
        "Converse of the Fermat's little theorem is NOT true i.e if n and b is a\n",
        "positive integer such that gcd(b; n) = 1 and bn􀀀1 \u0011 1 (mod n) then n need\n",
        "not be prime."
      ]
    },
    {
      "cell_type": "markdown",
      "metadata": {
        "id": "oyAkX4fIEQAH"
      },
      "source": [
        "Pseudoprime: A composite number n is said to be pseudoprime\n",
        "to the base b if b is a positive integer such that gcd(b; n) = 1 and\n",
        "b**(n-1) = 1 (mod n):\n",
        "From above example, 341 is a pseudoprime to the base 2.\n",
        " Carmichael number: A composite number n is said to be Carmichael\n",
        "number if n is a pseudoprime to every base b. For eg:- 561,1105:"
      ]
    },
    {
      "cell_type": "markdown",
      "metadata": {
        "id": "N8AlsSZ_8NOY"
      },
      "source": [
        "wilsons theorem - p is prime if fact(p-1) = -1 mod p"
      ]
    },
    {
      "cell_type": "code",
      "metadata": {
        "colab": {
          "base_uri": "https://localhost:8080/"
        },
        "id": "zmuGc41WCXsJ",
        "outputId": "2285279b-4f8f-43ae-ab70-7b7986d06b9b"
      },
      "source": [
        "#charmichael number\n",
        "n = int(input())\n",
        "for i in phi(n):\n",
        "  if (i**(n-1))%n != 1:\n",
        "    print(\"not a Charmichael number\")\n",
        "    break\n",
        "else:\n",
        "  print(\"charmichael number\")\n",
        "# if there exists such i s.t. b** n-1 not equal to zero then n is not a prime # contrapositive of fermat theorem"
      ],
      "execution_count": null,
      "outputs": [
        {
          "output_type": "stream",
          "text": [
            "19\n",
            "charmichael number\n"
          ],
          "name": "stdout"
        }
      ]
    },
    {
      "cell_type": "code",
      "metadata": {
        "id": "G9i7K7S283mQ"
      },
      "source": [
        "# miller rabin test - If p is prime then x**2 = 1 (mod p) implies x= + or - 1 (mod p)\n",
        "\"\"\"try with base b that b**(y-1)/2 gives +- 1 mod n then proceed further or may not be a prime\"\"\"\n",
        "# if it comes other than +1 or -1 it is a composite number"
      ],
      "execution_count": null,
      "outputs": []
    },
    {
      "cell_type": "code",
      "metadata": {
        "colab": {
          "base_uri": "https://localhost:8080/"
        },
        "id": "5sKiIFA9Oioc",
        "outputId": "069e64c7-34eb-4acd-d242-9c1b0fb03f5f"
      },
      "source": [
        "n = int(input()) # prime number\n",
        "for i in range(2, n):\n",
        "  if n%i == 0:\n",
        "    print(\"Not a prime\")\n",
        "    break\n",
        "else:\n",
        "  print(\"prime\")"
      ],
      "execution_count": null,
      "outputs": [
        {
          "output_type": "stream",
          "text": [
            "20\n",
            "Not a prime\n"
          ],
          "name": "stdout"
        }
      ]
    },
    {
      "cell_type": "code",
      "metadata": {
        "id": "zLWbb6T8-56H"
      },
      "source": [
        "import math"
      ],
      "execution_count": null,
      "outputs": []
    },
    {
      "cell_type": "code",
      "metadata": {
        "colab": {
          "base_uri": "https://localhost:8080/"
        },
        "id": "38IqVR3l-52e",
        "outputId": "1c43c31f-f249-4ce1-fba3-d6a88470adf8"
      },
      "source": [
        "# fermat factorisation\n",
        "n = int(input())\n",
        "m = int(math.sqrt(n)) + 1\n",
        "i = 0\n",
        "while True:\n",
        "  o = (m+i)**2 - n\n",
        "  p = int(math.sqrt(o))\n",
        "  if float(o) == p*p:\n",
        "    print(m+i-p, m+i+p)\n",
        "    break\n",
        "  i = i + 1"
      ],
      "execution_count": null,
      "outputs": [
        {
          "output_type": "stream",
          "text": [
            "38111\n",
            "23 1657\n"
          ],
          "name": "stdout"
        }
      ]
    },
    {
      "cell_type": "markdown",
      "metadata": {
        "id": "SoguND5TH763"
      },
      "source": [
        "POllard p-1 algorithm ---- p = prime and p/n and (p - 1)/k!"
      ]
    },
    {
      "cell_type": "code",
      "metadata": {
        "colab": {
          "base_uri": "https://localhost:8080/"
        },
        "id": "OdgMx5awIwVB",
        "outputId": "4d3cad88-c5ae-48bf-ae97-737612a643f8"
      },
      "source": [
        "def fact(n):\n",
        "  r = 1\n",
        "  for i in range(1, n+1):\n",
        "    r = r*i\n",
        "  return r\n",
        "\n",
        "fact(7)"
      ],
      "execution_count": null,
      "outputs": [
        {
          "output_type": "execute_result",
          "data": {
            "text/plain": [
              "5040"
            ]
          },
          "metadata": {
            "tags": []
          },
          "execution_count": 4
        }
      ]
    },
    {
      "cell_type": "code",
      "metadata": {
        "colab": {
          "base_uri": "https://localhost:8080/",
          "height": 391
        },
        "id": "bzLE39oVKtX3",
        "outputId": "4ba2b2fb-ae49-4f47-bb6f-a5ef362c2a2b"
      },
      "source": [
        "n = int(input(\"Enter a number to be factored\"))\n",
        "a = int(input(\"Enter a base s.t. gcd(a, n) = 1: \"))\n",
        "k = 0\n",
        "while True:\n",
        "  z = (a**(fact(k))-1)%n\n",
        "  z1 = gcd(z, n)\n",
        "  if z1 == 0:\n",
        "    print(\"test failed try for another base a\")\n",
        "    break\n",
        "  elif z1 == 1:\n",
        "    continue\n",
        "  else:\n",
        "    print(z1, n//z1)\n",
        "    break\n",
        "  k += 1  #gcd taking too long"
      ],
      "execution_count": null,
      "outputs": [
        {
          "output_type": "stream",
          "text": [
            "Enter a number to be factored33\n",
            "Enter a base s.t. gcd(a, n) = 1: 2\n"
          ],
          "name": "stdout"
        },
        {
          "output_type": "error",
          "ename": "KeyboardInterrupt",
          "evalue": "ignored",
          "traceback": [
            "\u001b[0;31m---------------------------------------------------------------------------\u001b[0m",
            "\u001b[0;31mKeyboardInterrupt\u001b[0m                         Traceback (most recent call last)",
            "\u001b[0;32m<ipython-input-6-fcac2dbb3883>\u001b[0m in \u001b[0;36m<module>\u001b[0;34m()\u001b[0m\n\u001b[1;32m      4\u001b[0m \u001b[0;32mwhile\u001b[0m \u001b[0;32mTrue\u001b[0m\u001b[0;34m:\u001b[0m\u001b[0;34m\u001b[0m\u001b[0;34m\u001b[0m\u001b[0m\n\u001b[1;32m      5\u001b[0m   \u001b[0mz\u001b[0m \u001b[0;34m=\u001b[0m \u001b[0;34m(\u001b[0m\u001b[0ma\u001b[0m\u001b[0;34m**\u001b[0m\u001b[0;34m(\u001b[0m\u001b[0mfact\u001b[0m\u001b[0;34m(\u001b[0m\u001b[0mk\u001b[0m\u001b[0;34m)\u001b[0m\u001b[0;34m)\u001b[0m\u001b[0;34m-\u001b[0m\u001b[0;36m1\u001b[0m\u001b[0;34m)\u001b[0m\u001b[0;34m%\u001b[0m\u001b[0mn\u001b[0m\u001b[0;34m\u001b[0m\u001b[0;34m\u001b[0m\u001b[0m\n\u001b[0;32m----> 6\u001b[0;31m   \u001b[0mz1\u001b[0m \u001b[0;34m=\u001b[0m \u001b[0mgcd\u001b[0m\u001b[0;34m(\u001b[0m\u001b[0mz\u001b[0m\u001b[0;34m,\u001b[0m \u001b[0mn\u001b[0m\u001b[0;34m)\u001b[0m\u001b[0;34m\u001b[0m\u001b[0;34m\u001b[0m\u001b[0m\n\u001b[0m\u001b[1;32m      7\u001b[0m   \u001b[0;32mif\u001b[0m \u001b[0mz1\u001b[0m \u001b[0;34m==\u001b[0m \u001b[0;36m0\u001b[0m\u001b[0;34m:\u001b[0m\u001b[0;34m\u001b[0m\u001b[0;34m\u001b[0m\u001b[0m\n\u001b[1;32m      8\u001b[0m     \u001b[0mprint\u001b[0m\u001b[0;34m(\u001b[0m\u001b[0;34m\"test failed try for another base a\"\u001b[0m\u001b[0;34m)\u001b[0m\u001b[0;34m\u001b[0m\u001b[0;34m\u001b[0m\u001b[0m\n",
            "\u001b[0;32m<ipython-input-2-7fc8d54276be>\u001b[0m in \u001b[0;36mgcd\u001b[0;34m(a, b)\u001b[0m\n\u001b[1;32m      4\u001b[0m   \u001b[0;32mfor\u001b[0m \u001b[0mi\u001b[0m \u001b[0;32min\u001b[0m \u001b[0mrange\u001b[0m\u001b[0;34m(\u001b[0m\u001b[0;36m1\u001b[0m\u001b[0;34m,\u001b[0m \u001b[0ma\u001b[0m\u001b[0;34m+\u001b[0m\u001b[0;36m1\u001b[0m\u001b[0;34m)\u001b[0m\u001b[0;34m:\u001b[0m\u001b[0;34m\u001b[0m\u001b[0;34m\u001b[0m\u001b[0m\n\u001b[1;32m      5\u001b[0m     \u001b[0;32mif\u001b[0m \u001b[0ma\u001b[0m\u001b[0;34m%\u001b[0m\u001b[0mi\u001b[0m \u001b[0;34m==\u001b[0m \u001b[0;36m0\u001b[0m\u001b[0;34m:\u001b[0m\u001b[0;34m\u001b[0m\u001b[0;34m\u001b[0m\u001b[0m\n\u001b[0;32m----> 6\u001b[0;31m       \u001b[0ma1\u001b[0m\u001b[0;34m.\u001b[0m\u001b[0madd\u001b[0m\u001b[0;34m(\u001b[0m\u001b[0mi\u001b[0m\u001b[0;34m)\u001b[0m\u001b[0;34m\u001b[0m\u001b[0;34m\u001b[0m\u001b[0m\n\u001b[0m\u001b[1;32m      7\u001b[0m   \u001b[0;32mfor\u001b[0m \u001b[0mj\u001b[0m \u001b[0;32min\u001b[0m \u001b[0mrange\u001b[0m\u001b[0;34m(\u001b[0m\u001b[0;36m1\u001b[0m\u001b[0;34m,\u001b[0m \u001b[0mb\u001b[0m\u001b[0;34m+\u001b[0m\u001b[0;36m1\u001b[0m\u001b[0;34m)\u001b[0m\u001b[0;34m:\u001b[0m\u001b[0;34m\u001b[0m\u001b[0;34m\u001b[0m\u001b[0m\n\u001b[1;32m      8\u001b[0m     \u001b[0;32mif\u001b[0m \u001b[0mb\u001b[0m\u001b[0;34m%\u001b[0m\u001b[0mj\u001b[0m \u001b[0;34m==\u001b[0m \u001b[0;36m0\u001b[0m\u001b[0;34m:\u001b[0m\u001b[0;34m\u001b[0m\u001b[0;34m\u001b[0m\u001b[0m\n",
            "\u001b[0;31mKeyboardInterrupt\u001b[0m: "
          ]
        }
      ]
    },
    {
      "cell_type": "markdown",
      "metadata": {
        "id": "OOiIl6nFN717"
      },
      "source": [
        "Monte carlo factorisation: \\\\\n",
        "Factor Base :"
      ]
    },
    {
      "cell_type": "code",
      "metadata": {
        "id": "qAyrzT2rLfrv",
        "colab": {
          "base_uri": "https://localhost:8080/"
        },
        "outputId": "8319534c-880b-4c29-ef7e-4bfaca12a54b"
      },
      "source": [
        "c_dict = {\"0\":\"0000\" , \"1\":\"0001\" , \"2\":\"0010\", \"3\":\"0011\", \"4\":\"0100\", \"5\":\"0101\", \"6\":\"0110\", \"7\":\"0111\", \"8\":\"1000\", \"9\":\"1001\",\n",
        "          \"a\":\"1010\", \"b\":\"1011\", \"c\":\"1100\", \"d\":\"1101\", \"e\":\"1110\", \"f\":\"1111\"}\n",
        "#sypher001\n",
        "v0 = int(input())\n",
        "v1 = int(input())\n",
        "v0 ^ v1"
      ],
      "execution_count": null,
      "outputs": [
        {
          "output_type": "stream",
          "text": [
            "10\n",
            "5\n"
          ],
          "name": "stdout"
        },
        {
          "output_type": "execute_result",
          "data": {
            "text/plain": [
              "15"
            ]
          },
          "metadata": {
            "tags": []
          },
          "execution_count": 23
        }
      ]
    },
    {
      "cell_type": "code",
      "metadata": {
        "id": "FAcWnRYqSDrw"
      },
      "source": [
        "s_box = {\"0\":\"6\", \"1\":\"4\", \"2\":\"12\", \"3\":\"5\", \"4\":\"0\", \"5\":\"7\", \"6\":\"2\", \"7\":\"14\", \"8\":\"1\", \"9\":\"15\", \"10\":\"3\",\n",
        "         \"11\":\"13\", \"12\":\"8\", \"13\":\"10\", \"14\":\"9\", \"15\":\"11\"}"
      ],
      "execution_count": null,
      "outputs": []
    },
    {
      "cell_type": "code",
      "metadata": {
        "colab": {
          "base_uri": "https://localhost:8080/"
        },
        "id": "U3sHWUDRU-yB",
        "outputId": "005bec84-1f86-47ac-d6e5-57c6f72103dd"
      },
      "source": [
        "m_0, m_1, k_0, k_1 = [int(i) for i in input(\"Enter m_0 , m_1 then k_0 and k_1: \").split()]\n",
        "u_0 = m_0 ^ k_0\n",
        "u_1 = m_1 ^ k_0\n",
        "v_0, v_1 = s_box[str(u_0)], s_box[str(u_1)]\n",
        "c_0, c_1 = int(v_0) ^ k_1 , int(v_1) ^ k_1\n",
        "print(c_0, c_1)"
      ],
      "execution_count": null,
      "outputs": [
        {
          "output_type": "stream",
          "text": [
            "Enter m_0 , m_1 then k_0 and k_1: 10 5 6 8\n",
            "0 13\n"
          ],
          "name": "stdout"
        }
      ]
    },
    {
      "cell_type": "code",
      "metadata": {
        "colab": {
          "base_uri": "https://localhost:8080/"
        },
        "id": "uuiC539HMwtA",
        "outputId": "7d5b13f3-ab94-4e8a-c548-9022a141296e"
      },
      "source": [
        "diff = m_0 ^ m_1\n",
        "c_0 = int(input(\"enter c_0 : \"))\n",
        "c_1 = int(input(\"enter c_1 : \"))\n",
        "for k1 in s_box.keys():\n",
        "  v__0 = c__0 ^ int(k1)\n",
        "  v__1 = c__1 ^ int(k1)\n",
        "  u__0 = list(s_box.keys())[list(s_box.values()).index(str(v__0))]\n",
        "  u__1 = list(s_box.keys())[list(s_box.values()).index(str(v__1))]\n",
        "  diff1 = int(u__0) ^ int(u__1)\n",
        "  if diff1 == diff:\n",
        "    print(k1)"
      ],
      "execution_count": null,
      "outputs": [
        {
          "output_type": "stream",
          "text": [
            "0\n",
            "2\n",
            "4\n",
            "5\n",
            "6\n",
            "8\n",
            "9\n",
            "11\n",
            "13\n",
            "15\n"
          ],
          "name": "stdout"
        }
      ]
    },
    {
      "cell_type": "code",
      "metadata": {
        "colab": {
          "base_uri": "https://localhost:8080/"
        },
        "id": "E4TKUGd1NN2U",
        "outputId": "24846979-354b-4174-9d3e-4c06400fa68c"
      },
      "source": [
        "#sypher002\n",
        "k2 = int(input(\"guess k2: \"))\n",
        "x_0 = c_0 ^ k2\n",
        "x_1 = c_1 ^ k2\n",
        "w_0 = int(list(s_box.keys())[list(s_box.values()).index(str(x_0))])\n",
        "w_1 = int(list(s_box.keys())[list(s_box.values()).index(str(x_1))])\n",
        "diff_w = w_0 ^ w_1\n",
        "choosen_diff = int(input(\"choosen difference: \"))\n",
        "v_list = []\n",
        "for u_0 in s_box.keys():\n",
        "  u_1 = int(u_0) ^ choosen_diff\n",
        "  v__0 = int(s_box[str(u_0)])\n",
        "  v__1 = int(s_box[str(u_1)])\n",
        "  v_list.append(v__0 ^ v__1)\n",
        "for ele in set(v_list):\n",
        "  print(ele, v_list.count(ele))"
      ],
      "execution_count": null,
      "outputs": [
        {
          "output_type": "stream",
          "text": [
            "guess k2: 15\n",
            "choosen difference: 15\n",
            "4 2\n",
            "13 10\n",
            "6 2\n",
            "15 2\n"
          ],
          "name": "stdout"
        }
      ]
    },
    {
      "cell_type": "code",
      "metadata": {
        "id": "Pnwy8FucxFrK"
      },
      "source": [],
      "execution_count": null,
      "outputs": []
    }
  ]
}